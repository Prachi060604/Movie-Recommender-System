import numpy as np
import pandas as pd
movies = pd.read_csv('tmdb_5000_movies.csv')
credits = pd.read_csv('tmdb_5000_credits.csv')
movies.head()
credits.head()
movies = movies.merge(credits,on='title')

movies.head(1)
# genres
# id
# keywords
# title
# overview
# cast
# crew

movies = movies[['movie_id','title','overview','genres','keywords','cast','crew']]
movies.info()
movies.head()
movies.isnull().sum()
movies.dropna(inplace=True)
movies.duplicated().sum()
movies.iloc[0].genres
import ast
def convert(obj):
    L = []
    for i in ast.literal_eval(obj):
        L.append(i['name'])
    return L

movies['genres']= movies['genres'].apply(convert)
movies.head()
movies['keywords']=movies['keywords'].apply(convert)
movies.head()

import ast
def convert3(obj):
    L = []
    counter=0
    for i in ast.literal_eval(obj):
        if counter !=3:

            L.append(i['name'])
            counter+=1
        else:
            break
       
           
        
       
    return L

movies['cast']= movies['cast'].apply(convert3)

import ast
def fetch_director(obj):
    L = []
    for i in ast.literal_eval(obj):
        if i['job'] == 'Director':
              L.append(i['name'])
              break
            
      
    return L

movies['crew']= movies['crew'].apply(fetch_director)

movies['overview'][0]
movies['overview']= movies['overview'].apply(lambda x:x.split())

movies['genres'] = movies['genres'].apply(lambda x:[i.replace(" ","") for i in x])
movies['keywords'] = movies['keywords'].apply(lambda x:[i.replace(" ","") for i in x])
movies['cast'] = movies['cast'].apply(lambda x:[i.replace(" ","") for i in x])
movies['crew'] = movies['crew'].apply(lambda x:[i.replace(" ","") for i in x])

movies['tags'] = movies['overview']+ movies['genres'] + movies['keywords'] + movies['cast'] + movies['crew']
new_df = movies[['movie_id','title','tags']]
new_df['tags'] = new_df['tags'].apply(lambda x:" ".join(x))

new_df.head()
import nltk
